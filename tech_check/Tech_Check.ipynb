{
 "cells": [
  {
   "cell_type": "markdown",
   "id": "4153860d",
   "metadata": {},
   "source": [
    "# Tech Check Notebook\n",
    "___\n",
    "\n",
    "## You should be able to access this notebook on Google Colab (or, optionally, Jupyter Notebook). Follow the instructions in the next cells."
   ]
  },
  {
   "cell_type": "markdown",
   "id": "8f657be4",
   "metadata": {},
   "source": [
    "___\n",
    "\n",
    "### Make sure you are working on Google Chrome, and that you have the [Open in Colab extension installed](https://chrome.google.com/webstore/detail/open-in-colab/iogfkhleblhcpcekbiedikdehleodpjo?hl=en).\n",
    "\n",
    "### To retrieve the code, you will have to import the pandas library:\n"
   ]
  },
  {
   "cell_type": "code",
   "execution_count": null,
   "id": "36079f49",
   "metadata": {},
   "outputs": [],
   "source": [
    "#import pandas in this cell, remember to use the conventional alias\n"
   ]
  },
  {
   "cell_type": "markdown",
   "id": "cd623627",
   "metadata": {},
   "source": [
    "### If Pandas was imported properly, the following cell will work.\n",
    "### Use the value that appears as the answer in your Tech Check Quiz"
   ]
  },
  {
   "cell_type": "code",
   "execution_count": null,
   "id": "d162c1ad",
   "metadata": {
    "scrolled": true
   },
   "outputs": [],
   "source": [
    "\n",
    "df = pd.read_csv('lost_code.csv')\n",
    "df.loc[0][1]"
   ]
  },
  {
   "cell_type": "code",
   "execution_count": null,
   "id": "3b892cfa",
   "metadata": {},
   "outputs": [],
   "source": []
  }
 ],
 "metadata": {
  "kernelspec": {
   "display_name": "Python 3",
   "language": "python",
   "name": "python3"
  },
  "language_info": {
   "codemirror_mode": {
    "name": "ipython",
    "version": 3
   },
   "file_extension": ".py",
   "mimetype": "text/x-python",
   "name": "python",
   "nbconvert_exporter": "python",
   "pygments_lexer": "ipython3",
   "version": "3.8.8"
  }
 },
 "nbformat": 4,
 "nbformat_minor": 5
}
